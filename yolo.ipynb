{
 "cells": [
  {
   "cell_type": "markdown",
   "metadata": {},
   "source": [
    "# Automatická detekcia TLE na snímkach AMOS pomocou hlbokého učenia\n",
    "\n",
    "## Príprava prostredia\n",
    "\n",
    "Príkazy na inštaláciu potrebných knižníc."
   ]
  },
  {
   "cell_type": "code",
   "execution_count": null,
   "metadata": {},
   "outputs": [],
   "source": [
    "!git clone https://github.com/ultralytics/yolov5\n",
    "!pip install opencv-contrib-python\n",
    "!pip install cv2"
   ]
  },
  {
   "cell_type": "markdown",
   "metadata": {},
   "source": [
    "Import potrebných knižníc."
   ]
  },
  {
   "cell_type": "code",
   "execution_count": null,
   "metadata": {},
   "outputs": [],
   "source": [
    "import cv2\n",
    "import os\n",
    "import shutil\n",
    "import csv"
   ]
  },
  {
   "cell_type": "markdown",
   "metadata": {},
   "source": [
    "## Trénovanie modelu"
   ]
  },
  {
   "cell_type": "markdown",
   "metadata": {},
   "source": [
    "Príkaz na začatie trénovania"
   ]
  },
  {
   "cell_type": "code",
   "execution_count": null,
   "metadata": {},
   "outputs": [],
   "source": [
    "python yolov5/train.py --img 640 --rect --batch 60 --epochs 300\n",
    "--data ./yolo/tle8.yaml --cfg ./yolov5/models/yolov5s.yaml\n",
    "--save-period 10 --workers 0"
   ]
  },
  {
   "cell_type": "markdown",
   "metadata": {},
   "source": [
    "## Iteratívny postup pridávania dát "
   ]
  },
  {
   "cell_type": "markdown",
   "metadata": {},
   "source": [
    "### Spojenie dát zo všetkých priečinkov do jedného \n",
    "reorg_dir: pôvodný priečinok s dalšími priečinkami <br>\n",
    "target_dir: výstupný priečinok"
   ]
  },
  {
   "cell_type": "code",
   "execution_count": null,
   "metadata": {},
   "outputs": [],
   "source": [
    "reorg_dir = \"/home/jovyan/data/lightning/Petra/yolo/AMOS2016/2016\"\n",
    "target_dir = \"/home/jovyan/data/lightning/Petra/yolo/AMOS2016/vsetko\" \n",
    "\n",
    "for root, dirs, files in os.walk(reorg_dir):\n",
    "    for name in files:\n",
    "        subject = root + \"/\" + name\n",
    "        n = 1\n",
    "        name_orig = os.path.splitext(name)[0]\n",
    "        extension = os.path.splitext(name)[1]\n",
    "        while os.path.exists(target_dir + \"/\" + name):\n",
    "            name = str(n)+\"_\" +name_orig + extension\n",
    "            n = n + 1\n",
    "        newfile = target_dir + \"/\" + name;\n",
    "        shutil.move(subject, newfile)"
   ]
  },
  {
   "cell_type": "markdown",
   "metadata": {},
   "source": [
    "## Výpočet ľavého krajného roku zo stredu\n"
   ]
  },
  {
   "cell_type": "code",
   "execution_count": null,
   "metadata": {},
   "outputs": [],
   "source": [
    "x=0.161719\n",
    "y=0.0557292\n",
    "w=0.034375\n",
    "h=0.046875\n",
    "a=(x-(w/2))*1280\n",
    "b=(y-(h/2))*960\n",
    "c=(x+(w/2))*1280\n",
    "d=(y+(h/2))*960\n",
    "print(a,b,c,d)"
   ]
  },
  {
   "cell_type": "markdown",
   "metadata": {},
   "source": [
    "## Vyčiernenie falošne pozitívnych javov, ktoré sa stále vyskytujú na snímke\n"
   ]
  },
  {
   "cell_type": "code",
   "execution_count": null,
   "metadata": {},
   "outputs": [],
   "source": [
    "rootPath = r'/home/jovyan/data/lightning/Petra/yolo/AMOS2016/vsetko'\n",
    "for root, dirs, files in os.walk(rootPath):\n",
    "    for file in files:\n",
    "        name = os.path.splitext(file)[0]\n",
    "        extension = os.path.splitext(file)[1]\n",
    "        if name[-5:] == \"VAZEC\":\n",
    "            im = Image.open(os.path.join(root, \"%s\" % (file)))\n",
    "            im1 = ImageDraw.Draw(im)\n",
    "            im1.rectangle([(255.000192, 0), (340.000128, 43.000032)], outline=\"black\",fill=\"black\")\n",
    "            im1.rectangle([(1211.99936, 435.99950400000006), (1279.99936, 520.999536)], outline=\"black\",fill=\"black\")\n",
    "            im1.rectangle([(188.0, 387.00033600000006), (235.99999999999997, 467.00030399999997)], outline=\"black\",fill=\"black\")\n",
    "            im1.rectangle([(94.99993599999999,223.00017599999998), (134.0,264.000144)], outline=\"black\",fill=\"black\")\n",
    "            im1.rectangle([(233.00032000000002,874.9998240000001), (386.0 ,959.999856)], outline=\"black\",fill=\"black\")\n",
    "            im.save(os.path.join(rootPath, \"%s\" % (file)))\n",
    "        if name[-3:] == \"AGO\":\n",
    "            im = Image.open(os.path.join(root, \"%s\" % (file)))\n",
    "            im1 = ImageDraw.Draw(im)\n",
    "            im1.rectangle([(236.99987200000004, 314.99952 ), (287.99980800000003,401.99952)], outline=\"black\",fill=\"black\")\n",
    "            im.save(os.path.join(rootPath, \"%s\" % (file)))\n",
    "        if name[-5:] == \"Senec\":\n",
    "            im = Image.open(os.path.join(root, \"%s\" % (file)))\n",
    "            im1 = ImageDraw.Draw(im)\n",
    "            im1.rectangle([(1172.999808, 357.0), (1207.9998719999999, 393.0)], outline=\"black\",fill=\"black\")\n",
    "            im1.rectangle([(1131.999552 ,747.0), (1178.999488, 807.0)], outline=\"black\",fill=\"black\")\n",
    "            im1.rectangle([(164.999808,89.00015999999998), (287.999872, 216.99984)], outline=\"black\",fill=\"black\")\n",
    "            im.save(os.path.join(rootPath, \"%s\" % (file)))\n",
    "        if name[-3:] == \"KNM\":\n",
    "            im = Image.open(os.path.join(root, \"%s\" % (file)))\n",
    "            im1 = ImageDraw.Draw(im)\n",
    "            im1.rectangle([(148.999488,2.9999520000000013 ), (185.999552,33.999984)], outline=\"black\",fill=\"black\")\n",
    "            im1.rectangle([(185.00032000000002, 31.000032 ), (229.00032, 76.000032)], outline=\"black\",fill=\"black\")\n",
    "            im.save(os.path.join(rootPath, \"%s\" % (file)))\n",
    "        if name[-4:] == \"ARBO\":\n",
    "            im = Image.open(os.path.join(root, \"%s\" % (file)))\n",
    "            im1 = ImageDraw.Draw(im)\n",
    "            im1.rectangle([(227.00032 ,111.00048), (275.00032, 168.00048)], outline=\"black\",fill=\"black\")\n",
    "            im.save(os.path.join(rootPath, \"%s\" % (file)))"
   ]
  },
  {
   "cell_type": "markdown",
   "metadata": {},
   "source": [
    "## Detekcia vtedy najlepším modelom na novom datasete"
   ]
  },
  {
   "cell_type": "code",
   "execution_count": null,
   "metadata": {},
   "outputs": [],
   "source": [
    "!python yolov5/detect.py --weights ./yolov5/runs/train/exp70/weights/best.pt --source ./yolo/AMOS2018/vsetko --iou 0.3 --conf 0.45 --img 640 --save-txt "
   ]
  },
  {
   "cell_type": "markdown",
   "metadata": {},
   "source": [
    "## Odstránenie AGO-Spec snímok, ktoré neobsahujú TLE"
   ]
  },
  {
   "cell_type": "code",
   "execution_count": null,
   "metadata": {},
   "outputs": [],
   "source": [
    "rootPath = '/home/jovyan/data/lightning/Petra/yolov5/runs/detect/exp366/labels'\n",
    "for root, dirs, files in os.walk(rootPath):\n",
    "    for file in files:\n",
    "        name = os.path.splitext(file)[0]\n",
    "        extension = os.path.splitext(file)[1]\n",
    "        if name[-8:] == \"AGO-Spec\":\n",
    "            full_file_path = os.path.join(rootPath, file)\n",
    "            os.remove(full_file_path)\n",
    "            "
   ]
  },
  {
   "cell_type": "markdown",
   "metadata": {},
   "source": [
    "## Vytvorenie zoznamu len anotovaných snímok"
   ]
  },
  {
   "cell_type": "code",
   "execution_count": null,
   "metadata": {},
   "outputs": [],
   "source": [
    "rootPath = r'/home/jovyan/data/lightning/Petra/yolov5/runs/detect/exp399/labels'\n",
    "\n",
    "with open(\"anotovane399.txt\", \"w\") as a:\n",
    "    for path, subdirs, files in os.walk(rootPath):\n",
    "        for filename in files:\n",
    "            f = os.path.join(filename)\n",
    "            name = os.path.splitext(f)[0]\n",
    "            extension = os.path.splitext(f)[1]\n",
    "            a.write(str(name)+\".jpg\"+ os.linesep)"
   ]
  },
  {
   "cell_type": "markdown",
   "metadata": {},
   "source": [
    "## Odstránenie snímok na ktorých sa nenachádza anotácia"
   ]
  },
  {
   "cell_type": "code",
   "execution_count": null,
   "metadata": {},
   "outputs": [],
   "source": [
    "path = '/home/jovyan/data/lightning/Petra/yolov5/runs/detect/exp399'\n",
    "with open('anotovane399.txt',\"r\") as f:\n",
    "    file_name = f.readlines()\n",
    "    file_name = [x[:-1] for x in file_name]\n",
    "    for filename in os.listdir(path):\n",
    "        if filename == \"labels\":\n",
    "            continue\n",
    "        if filename not in file_name:\n",
    "            full_file_path = os.path.join(path, filename)\n",
    "            os.remove(full_file_path)\n",
    "    "
   ]
  },
  {
   "cell_type": "markdown",
   "metadata": {},
   "source": [
    "## Finálna detekcia"
   ]
  },
  {
   "cell_type": "code",
   "execution_count": null,
   "metadata": {},
   "outputs": [],
   "source": [
    "!python yolov5/detect.py --weights\n",
    "./yolov5/runs/train/exp103/weights/epoch190.pt\n",
    "--source ./yolo/test3 --iou 0.3 --conf 0.45 --img 640 --save-txt"
   ]
  },
  {
   "cell_type": "markdown",
   "metadata": {},
   "source": [
    "## Vytvorenie výstupnej tabuľky so všetkými nájdenými javmi počas práce\n",
    "csvOut: názov výstupne tabuľky <br>\n",
    "path: cesta ku všetkým nájdeným obrázkom s anotáciami"
   ]
  },
  {
   "cell_type": "code",
   "execution_count": null,
   "metadata": {},
   "outputs": [],
   "source": [
    "csvOut='vystupfinal2.csv'\n",
    "path = '/home/jovyan/data/lightning/Petra/final'\n",
    "with open(csvOut, mode='w') as csv_file:\n",
    "    fieldnames = ['filename','x', 'y', 'width', 'height']\n",
    "    writer = csv.DictWriter(csv_file, fieldnames=fieldnames)\n",
    "    writer.writeheader()\n",
    "    for root, dirs, files in os.walk(path):\n",
    "        for name in files:\n",
    "            file = path+\"/\"+name\n",
    "            txt = os.path.splitext(name)[1]\n",
    "            if txt == \".txt\":\n",
    "                with open(file) as f:\n",
    "                    name_orig = os.path.splitext(name)[0]\n",
    "                    lines = f.readlines()\n",
    "                    dlzka = len(lines)\n",
    "                    i=0\n",
    "                    while i<dlzka:\n",
    "                        line = lines[i]\n",
    "                        splitted = line.split(\" \")\n",
    "                        list(map(lambda x:x.strip(),splitted))\n",
    "                        writer.writerow({'filename': name_orig,'x':splitted[1], 'y':splitted[2], 'width':splitted[3], 'height':splitted[4]})\n",
    "                        i=i+1"
   ]
  }
 ],
 "metadata": {
  "kernelspec": {
   "display_name": "Python 3",
   "language": "python",
   "name": "python3"
  },
  "language_info": {
   "codemirror_mode": {
    "name": "ipython",
    "version": 3
   },
   "file_extension": ".py",
   "mimetype": "text/x-python",
   "name": "python",
   "nbconvert_exporter": "python",
   "pygments_lexer": "ipython3",
   "version": "3.8.6"
  }
 },
 "nbformat": 4,
 "nbformat_minor": 4
}
